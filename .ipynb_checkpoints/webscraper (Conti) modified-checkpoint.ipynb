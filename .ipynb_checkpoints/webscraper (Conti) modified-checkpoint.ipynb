{
 "cells": [
  {
   "cell_type": "markdown",
   "id": "ac796530",
   "metadata": {},
   "source": [
    "## 1) Scraping Conti\n",
    "Conti link: http://continewsnv5otx5kaoje7krkto2qbu3gtqef22mnr7eaxw3y6ncz3ad.onion/"
   ]
  },
  {
   "cell_type": "code",
   "execution_count": 1,
   "id": "1e36c847-5509-497f-ac35-a6d5782ed993",
   "metadata": {},
   "outputs": [],
   "source": [
    "# Importing modules\n",
    "\n",
    "import socks\n",
    "import socket\n",
    "import requests\n",
    "from bs4 import BeautifulSoup"
   ]
  },
  {
   "cell_type": "code",
   "execution_count": 2,
   "id": "578b51a5-fc2e-49db-ae56-2cdeb1f02d9a",
   "metadata": {},
   "outputs": [],
   "source": [
    "# Configuring Socks to use Tor\n",
    "\n",
    "from urllib.request import urlopen\n",
    "socks.set_default_proxy(socks.SOCKS5, \"localhost\", 9150)\n",
    "\n",
    "old_socket = socket.socket # saving old socket info \n",
    "socket.socket = socks.socksocket"
   ]
  },
  {
   "cell_type": "code",
   "execution_count": 3,
   "id": "e5848fd8-55d1-48c2-a6e6-9be4fb1c57ef",
   "metadata": {},
   "outputs": [],
   "source": [
    "# It is necessary to use Tor for DNS resolution of Onion websites\n",
    "\n",
    "def getaddrinfo(*args):\n",
    "    return [(socket.AF_INET, socket.SOCK_STREAM, 6, '', (args[0], args[1]))]\n",
    "\n",
    "socket.getaddrinfo = getaddrinfo"
   ]
  },
  {
   "cell_type": "code",
   "execution_count": 4,
   "id": "77de0496-4621-4fa5-accb-6b21e7b67c9d",
   "metadata": {},
   "outputs": [],
   "source": [
    "# Using requests package to read in the Hidden Wiki Onion Website on the Darknet\n",
    "\n",
    "\n",
    "conti_link = \"http://continewsnv5otx5kaoje7krkto2qbu3gtqef22mnr7eaxw3y6ncz3ad.onion/\"\n",
    "res = requests.get(conti_link)"
   ]
  },
  {
   "cell_type": "code",
   "execution_count": 5,
   "id": "1855aad6-b087-4869-8567-45ea4e6ed17a",
   "metadata": {},
   "outputs": [],
   "source": [
    "# Using beautifulsoup to get the website content into a nice format\n",
    "\n",
    "soup = BeautifulSoup(res.content, 'html.parser')"
   ]
  },
  {
   "cell_type": "code",
   "execution_count": 6,
   "id": "1d2e8a90-4232-43a6-804e-00a36cd08c03",
   "metadata": {},
   "outputs": [
    {
     "name": "stdout",
     "output_type": "stream",
     "text": [
      "<title>CONTI.News</title>\n"
     ]
    }
   ],
   "source": [
    "# Checking the Website's title\n",
    "\n",
    "soup.title\n",
    "print(soup.title)"
   ]
  },
  {
   "cell_type": "code",
   "execution_count": 7,
   "id": "3af73731-f58d-4167-9511-d8da0ff8322e",
   "metadata": {},
   "outputs": [
    {
     "data": {
      "text/plain": [
       "['/',\n",
       " 'https://continews.click',\n",
       " 'http://continewsnv5otx5kaoje7krkto2qbu3gtqef22mnr7eaxw3y6ncz3ad.onion',\n",
       " 'https://www.officestarstore.com',\n",
       " '/5lqBdb_Office_Star_Products',\n",
       " 'https://www.rtcnt.com',\n",
       " '/aoQuvx_Real_Time',\n",
       " 'https://covisian.com',\n",
       " '/VwCUtB_Grupo_GSS',\n",
       " 'https://taxleaf.com/',\n",
       " '/lxmtS3_TaxLeaf_Corporate',\n",
       " 'https://minjargold.com.au',\n",
       " '/SAFsv5_Minjar_Gold',\n",
       " 'https://www.parcoinc.com/',\n",
       " '/krqH6c_parcoinc',\n",
       " 'https://www.westtree.com',\n",
       " '/oNTEv3_WEST_TREE_SERVICE',\n",
       " 'https://www.amax.com',\n",
       " '/JBSGxX_AMAX',\n",
       " 'https://www.rtix.com/en_us',\n",
       " '/Avsgkn_RTI_Surgical',\n",
       " '/page/1',\n",
       " '/page/2',\n",
       " '/page/3',\n",
       " '/page/4',\n",
       " '/page/5',\n",
       " '/page/6',\n",
       " '/page/7',\n",
       " '/page/8',\n",
       " '/page/9',\n",
       " '/page/2',\n",
       " '/page/54']"
      ]
     },
     "execution_count": 7,
     "metadata": {},
     "output_type": "execute_result"
    }
   ],
   "source": [
    "# Getting all links out of the soup and deleting None's\n",
    "\n",
    "links = [link.get('href') for link in soup.find_all('a', href=True)]\n",
    "links = list(filter(None, links))\n",
    "links"
   ]
  },
  {
   "cell_type": "code",
   "execution_count": 8,
   "id": "f5e95fbf-495f-4e01-891f-fb56bb18f0e5",
   "metadata": {},
   "outputs": [
    {
     "data": {
      "text/plain": [
       "['http://continewsnv5otx5kaoje7krkto2qbu3gtqef22mnr7eaxw3y6ncz3ad.onion/page/1',\n",
       " 'http://continewsnv5otx5kaoje7krkto2qbu3gtqef22mnr7eaxw3y6ncz3ad.onion/page/2',\n",
       " 'http://continewsnv5otx5kaoje7krkto2qbu3gtqef22mnr7eaxw3y6ncz3ad.onion/page/3',\n",
       " 'http://continewsnv5otx5kaoje7krkto2qbu3gtqef22mnr7eaxw3y6ncz3ad.onion/page/4',\n",
       " 'http://continewsnv5otx5kaoje7krkto2qbu3gtqef22mnr7eaxw3y6ncz3ad.onion/page/5',\n",
       " 'http://continewsnv5otx5kaoje7krkto2qbu3gtqef22mnr7eaxw3y6ncz3ad.onion/page/6',\n",
       " 'http://continewsnv5otx5kaoje7krkto2qbu3gtqef22mnr7eaxw3y6ncz3ad.onion/page/7',\n",
       " 'http://continewsnv5otx5kaoje7krkto2qbu3gtqef22mnr7eaxw3y6ncz3ad.onion/page/8',\n",
       " 'http://continewsnv5otx5kaoje7krkto2qbu3gtqef22mnr7eaxw3y6ncz3ad.onion/page/9',\n",
       " 'http://continewsnv5otx5kaoje7krkto2qbu3gtqef22mnr7eaxw3y6ncz3ad.onion/page/10',\n",
       " 'http://continewsnv5otx5kaoje7krkto2qbu3gtqef22mnr7eaxw3y6ncz3ad.onion/page/11',\n",
       " 'http://continewsnv5otx5kaoje7krkto2qbu3gtqef22mnr7eaxw3y6ncz3ad.onion/page/12',\n",
       " 'http://continewsnv5otx5kaoje7krkto2qbu3gtqef22mnr7eaxw3y6ncz3ad.onion/page/13',\n",
       " 'http://continewsnv5otx5kaoje7krkto2qbu3gtqef22mnr7eaxw3y6ncz3ad.onion/page/14',\n",
       " 'http://continewsnv5otx5kaoje7krkto2qbu3gtqef22mnr7eaxw3y6ncz3ad.onion/page/15',\n",
       " 'http://continewsnv5otx5kaoje7krkto2qbu3gtqef22mnr7eaxw3y6ncz3ad.onion/page/16',\n",
       " 'http://continewsnv5otx5kaoje7krkto2qbu3gtqef22mnr7eaxw3y6ncz3ad.onion/page/17',\n",
       " 'http://continewsnv5otx5kaoje7krkto2qbu3gtqef22mnr7eaxw3y6ncz3ad.onion/page/18',\n",
       " 'http://continewsnv5otx5kaoje7krkto2qbu3gtqef22mnr7eaxw3y6ncz3ad.onion/page/19',\n",
       " 'http://continewsnv5otx5kaoje7krkto2qbu3gtqef22mnr7eaxw3y6ncz3ad.onion/page/20',\n",
       " 'http://continewsnv5otx5kaoje7krkto2qbu3gtqef22mnr7eaxw3y6ncz3ad.onion/page/21',\n",
       " 'http://continewsnv5otx5kaoje7krkto2qbu3gtqef22mnr7eaxw3y6ncz3ad.onion/page/22',\n",
       " 'http://continewsnv5otx5kaoje7krkto2qbu3gtqef22mnr7eaxw3y6ncz3ad.onion/page/23',\n",
       " 'http://continewsnv5otx5kaoje7krkto2qbu3gtqef22mnr7eaxw3y6ncz3ad.onion/page/24',\n",
       " 'http://continewsnv5otx5kaoje7krkto2qbu3gtqef22mnr7eaxw3y6ncz3ad.onion/page/25',\n",
       " 'http://continewsnv5otx5kaoje7krkto2qbu3gtqef22mnr7eaxw3y6ncz3ad.onion/page/26',\n",
       " 'http://continewsnv5otx5kaoje7krkto2qbu3gtqef22mnr7eaxw3y6ncz3ad.onion/page/27',\n",
       " 'http://continewsnv5otx5kaoje7krkto2qbu3gtqef22mnr7eaxw3y6ncz3ad.onion/page/28',\n",
       " 'http://continewsnv5otx5kaoje7krkto2qbu3gtqef22mnr7eaxw3y6ncz3ad.onion/page/29',\n",
       " 'http://continewsnv5otx5kaoje7krkto2qbu3gtqef22mnr7eaxw3y6ncz3ad.onion/page/30',\n",
       " 'http://continewsnv5otx5kaoje7krkto2qbu3gtqef22mnr7eaxw3y6ncz3ad.onion/page/31',\n",
       " 'http://continewsnv5otx5kaoje7krkto2qbu3gtqef22mnr7eaxw3y6ncz3ad.onion/page/32',\n",
       " 'http://continewsnv5otx5kaoje7krkto2qbu3gtqef22mnr7eaxw3y6ncz3ad.onion/page/33',\n",
       " 'http://continewsnv5otx5kaoje7krkto2qbu3gtqef22mnr7eaxw3y6ncz3ad.onion/page/34',\n",
       " 'http://continewsnv5otx5kaoje7krkto2qbu3gtqef22mnr7eaxw3y6ncz3ad.onion/page/35',\n",
       " 'http://continewsnv5otx5kaoje7krkto2qbu3gtqef22mnr7eaxw3y6ncz3ad.onion/page/36',\n",
       " 'http://continewsnv5otx5kaoje7krkto2qbu3gtqef22mnr7eaxw3y6ncz3ad.onion/page/37',\n",
       " 'http://continewsnv5otx5kaoje7krkto2qbu3gtqef22mnr7eaxw3y6ncz3ad.onion/page/38',\n",
       " 'http://continewsnv5otx5kaoje7krkto2qbu3gtqef22mnr7eaxw3y6ncz3ad.onion/page/39',\n",
       " 'http://continewsnv5otx5kaoje7krkto2qbu3gtqef22mnr7eaxw3y6ncz3ad.onion/page/40',\n",
       " 'http://continewsnv5otx5kaoje7krkto2qbu3gtqef22mnr7eaxw3y6ncz3ad.onion/page/41',\n",
       " 'http://continewsnv5otx5kaoje7krkto2qbu3gtqef22mnr7eaxw3y6ncz3ad.onion/page/42',\n",
       " 'http://continewsnv5otx5kaoje7krkto2qbu3gtqef22mnr7eaxw3y6ncz3ad.onion/page/43',\n",
       " 'http://continewsnv5otx5kaoje7krkto2qbu3gtqef22mnr7eaxw3y6ncz3ad.onion/page/44',\n",
       " 'http://continewsnv5otx5kaoje7krkto2qbu3gtqef22mnr7eaxw3y6ncz3ad.onion/page/45',\n",
       " 'http://continewsnv5otx5kaoje7krkto2qbu3gtqef22mnr7eaxw3y6ncz3ad.onion/page/46',\n",
       " 'http://continewsnv5otx5kaoje7krkto2qbu3gtqef22mnr7eaxw3y6ncz3ad.onion/page/47',\n",
       " 'http://continewsnv5otx5kaoje7krkto2qbu3gtqef22mnr7eaxw3y6ncz3ad.onion/page/48',\n",
       " 'http://continewsnv5otx5kaoje7krkto2qbu3gtqef22mnr7eaxw3y6ncz3ad.onion/page/49',\n",
       " 'http://continewsnv5otx5kaoje7krkto2qbu3gtqef22mnr7eaxw3y6ncz3ad.onion/page/50',\n",
       " 'http://continewsnv5otx5kaoje7krkto2qbu3gtqef22mnr7eaxw3y6ncz3ad.onion/page/51',\n",
       " 'http://continewsnv5otx5kaoje7krkto2qbu3gtqef22mnr7eaxw3y6ncz3ad.onion/page/52',\n",
       " 'http://continewsnv5otx5kaoje7krkto2qbu3gtqef22mnr7eaxw3y6ncz3ad.onion/page/53']"
      ]
     },
     "execution_count": 8,
     "metadata": {},
     "output_type": "execute_result"
    }
   ],
   "source": [
    "# Manually creating the links as the scraping of links have some issue.\n",
    "\n",
    "conti_link_manual = \"http://continewsnv5otx5kaoje7krkto2qbu3gtqef22mnr7eaxw3y6ncz3ad.onion/page/\"\n",
    "webpage_links = [] \n",
    "for x in range (1,54):\n",
    "    str_convert = str(x)\n",
    "    final = conti_link_manual + str_convert\n",
    "    webpage_links.append(final)\n",
    "        \n",
    "webpage_links"
   ]
  },
  {
   "cell_type": "code",
   "execution_count": 9,
   "id": "b8caa053-fe8b-4a22-8ced-af79db6aad7d",
   "metadata": {},
   "outputs": [],
   "source": [
    "# # Finding by class name\n",
    "# company_list = []\n",
    "# mydivs = soup.findAll(\"div\", {\"class\": \"files\"})\n",
    "\n",
    "# #posts = soup.find_all(class_ = \"title\")\n",
    "# for post in mydivs:\n",
    "#     title = post.find_all('a')\n",
    "#     #print(title.text)\n",
    "#     #print(post.text)\n",
    "#     if title:\n",
    "#         print(title)\n",
    "#     #l = title.text\n",
    "#     #cleaned = l.replace('“', '').replace('”','')\n",
    "#     #company_list.append(title)\n",
    "    \n",
    "# #company_list"
   ]
  },
  {
   "cell_type": "code",
   "execution_count": null,
   "id": "98ace229-bf7a-4c8b-81e1-d3e3da658148",
   "metadata": {},
   "outputs": [],
   "source": [
    "# Find all company that are affected with conti ransomware\n",
    "company_list = []\n",
    "for link in webpage_links:\n",
    "    res = requests.get(link)\n",
    "    soup = BeautifulSoup(res.content, 'html.parser')\n",
    "    posts = soup.findAll(\"div\", {\"class\": \"title\"})\n",
    "    for post in posts:\n",
    "        l = post.text\n",
    "        cleaned = l.replace('“', '').replace('”','')\n",
    "        company_list.append(cleaned)\n",
    "\n",
    "#company_list.remove(\"completeportables\")\n",
    "company_list\n"
   ]
  },
  {
   "cell_type": "code",
   "execution_count": null,
   "id": "c5b76b8a",
   "metadata": {},
   "outputs": [],
   "source": [
    "# Find all dates that company was affected with ransomware \n",
    "date_list = []\n",
    "for link in webpage_links:\n",
    "    res = requests.get(link)\n",
    "    soup = BeautifulSoup(res.content, 'html.parser')\n",
    "    posts = soup.findAll(\"div\", {\"class\": \"footer\"})\n",
    "    for post in posts:\n",
    "        l = post.text\n",
    "        split_string = l.split(\",\", 1)\n",
    "        substring = split_string[0]\n",
    "        cleaned = substring.replace('\\n','')\n",
    "        date_list.append(cleaned)\n",
    "\n",
    "date_list"
   ]
  },
  {
   "cell_type": "markdown",
   "id": "b63173d4",
   "metadata": {},
   "source": [
    "## 2) Selenium web automation to find victim industries"
   ]
  },
  {
   "cell_type": "code",
   "execution_count": null,
   "id": "4b881682-f8c5-44a2-b32e-01751363220d",
   "metadata": {},
   "outputs": [],
   "source": [
    "import pandas as pd\n",
    "import numpy as np\n",
    "\n",
    "df = pd.DataFrame(columns=['Companies', 'Industries','Affected_Date'])\n",
    "df['Companies'] = company_list\n",
    "df['Affected_Date'] = date_list\n",
    "\n",
    "#df.to_csv('conti.csv', index=False)"
   ]
  },
  {
   "cell_type": "code",
   "execution_count": null,
   "id": "6d866d12",
   "metadata": {},
   "outputs": [],
   "source": [
    "pip install webdriver-manager"
   ]
  },
  {
   "cell_type": "code",
   "execution_count": null,
   "id": "1c57194c-af5f-4594-a91d-e49207074ba9",
   "metadata": {
    "scrolled": true
   },
   "outputs": [],
   "source": [
    "# pip install webdriver-manager\n",
    "import time\n",
    "from selenium import webdriver\n",
    "from selenium.webdriver.chrome.service import Service\n",
    "from webdriver_manager.chrome import ChromeDriverManager\n",
    "from selenium.webdriver.common.by import By\n",
    "from selenium.webdriver.common.keys import Keys\n",
    "\n",
    "socket.socket = old_socket # reuse the original socket for selenium\n",
    "\n",
    "s=Service(ChromeDriverManager().install())\n",
    "print(s)\n",
    "\n",
    "driver = webdriver.Chrome(service=s)\n",
    "driver.maximize_window()"
   ]
  },
  {
   "cell_type": "code",
   "execution_count": null,
   "id": "979f2795-66fa-427a-bf95-90192ede4908",
   "metadata": {},
   "outputs": [],
   "source": [
    "# #Wikipedia Search\n",
    "# industry_list = []\n",
    "# number = 0\n",
    "\n",
    "# #For ChromeDriver version 79.0.3945.16 or over\n",
    "# options = webdriver.ChromeOptions()\n",
    "# options.add_argument('--disable-blink-features=AutomationControlled') \n",
    "\n",
    "# for company in company_list:\n",
    "#     driver.get('https://www.google.com')\n",
    "#     search = driver.find_element(By.NAME, 'q')\n",
    "#     search.send_keys(company + ' wikipedia')\n",
    "#     search.send_keys(Keys.RETURN) # hit return after you enter search text\n",
    "\n",
    "#     wiki_page = driver.find_element_by_tag_name('h3') # clicking the first search result\n",
    "#     wiki_page.click()\n",
    "\n",
    "#     try:\n",
    "#         infobox = driver.find_elements_by_class_name(\"infobox-label\")\n",
    "#         infobox_data = driver.find_elements_by_class_name(\"infobox-data\")\n",
    "\n",
    "#         index = 0\n",
    "#         for info in infobox:\n",
    "#             #print(info.text)\n",
    "#             if (info.text == \"Industry\"):\n",
    "#                 industry_list.append(infobox_data[index].text)\n",
    "#                 print(str(number) + \") \" + company + \": \" + infobox_data[index].text)\n",
    "#                 break \n",
    "#             index = index + 1\n",
    "#         else:\n",
    "#             industry_list.append(np.nan)\n",
    "#             print(str(number) + \") \" + company + \": \" + str(np.nan))\n",
    "#     except:\n",
    "#         print(\"cb\")\n",
    "#     number = number + 1\n",
    "    \n",
    "# driver.quit()"
   ]
  },
  {
   "cell_type": "code",
   "execution_count": null,
   "id": "f4b86e8e",
   "metadata": {},
   "outputs": [],
   "source": [
    "# glassdoor search\n",
    "industry_list = []\n",
    "number = 0\n",
    "\n",
    "#For ChromeDriver version 79.0.3945.16 or over\n",
    "options = webdriver.ChromeOptions()\n",
    "options.add_argument('--disable-blink-features=AutomationControlled') \n",
    "options.add_argument(\"enable-automation\");\n",
    "options.add_argument(\"--headless\");\n",
    "options.add_argument(\"--window-size=1920,1080\");\n",
    "options.add_argument(\"--no-sandbox\");\n",
    "options.add_argument(\"--disable-extensions\");\n",
    "options.add_argument(\"--dns-prefetch-disable\");\n",
    "options.add_argument(\"--disable-gpu\");\n",
    "\n",
    "for company in company_list: \n",
    "    driver.get('https://www.google.com')\n",
    "    search = driver.find_element(By.NAME, 'q')\n",
    "    search.send_keys(company + ' glassdoor \"overview\"')\n",
    "    search.send_keys(Keys.RETURN)\n",
    "    glassdoor_page = driver.find_element_by_tag_name('h3') # clicking the first search result\n",
    "    glassdoor_page.click()\n",
    "        \n",
    "    try:\n",
    "        pagesource = driver.page_source\n",
    "        soup = BeautifulSoup(pagesource, 'html.parser')\n",
    "        labels = soup.find_all('label')\n",
    "        for label in labels:\n",
    "            if (label.text == \"Industry:\"):\n",
    "                industry = label.next_sibling.text\n",
    "                industry_list.append(industry)\n",
    "                print(str(number) + \") \" + company + \": \" + industry)\n",
    "                break\n",
    "        else:\n",
    "            industry_list.append(np.nan)\n",
    "            print(str(number) + \") \" + company + \": \" + str(np.nan))\n",
    "    except:\n",
    "        print(\"cb\")\n",
    "    number = number + 1\n",
    "    \n",
    "driver.quit()"
   ]
  },
  {
   "cell_type": "code",
   "execution_count": null,
   "id": "cad029ba",
   "metadata": {},
   "outputs": [],
   "source": [
    "# glassdoor search to find headquarters of victim companies\n",
    "headquarter_list = []\n",
    "number = 0\n",
    "\n",
    "#For ChromeDriver version 79.0.3945.16 or over\n",
    "options = webdriver.ChromeOptions()\n",
    "options.add_argument('--disable-blink-features=AutomationControlled') \n",
    "options.add_argument('headless')\n",
    "options.add_argument(\"disable-infobars\")\n",
    "\n",
    "for company in company_list: \n",
    "    driver.get('https://www.google.com')\n",
    "    search = driver.find_element(By.NAME, 'q')\n",
    "    search.send_keys(company + ' glassdoor \"overview\"')\n",
    "    search.send_keys(Keys.RETURN)\n",
    "    glassdoor_page = driver.find_element_by_tag_name('h3') # clicking the first search result\n",
    "    glassdoor_page.click()\n",
    "        \n",
    "    try:\n",
    "        pagesource = driver.page_source\n",
    "        soup = BeautifulSoup(pagesource, 'html.parser')\n",
    "        labels = soup.find_all('label')\n",
    "        for label in labels:\n",
    "            if (label.text == \"Headquarters:\"):\n",
    "                industry = label.next_sibling.text\n",
    "                headquarter_list.append(industry)\n",
    "                print(str(number) + \") \" + company + \": \" + industry)\n",
    "                break\n",
    "            else:\n",
    "                headquarter_list.append(np.nan)\n",
    "                print(str(number) + \") \" + company + \": \" + str(np.nan))\n",
    "    except:\n",
    "        print(\"cb\")\n",
    "    number = number + 1\n",
    "    \n",
    "driver.quit()"
   ]
  },
  {
   "cell_type": "code",
   "execution_count": null,
   "id": "b2f5116c",
   "metadata": {},
   "outputs": [],
   "source": [
    "'''\n",
    "for company in master_list:\n",
    "    driver.get('https://www.google.com')\n",
    "    search = driver.find_element(By.NAME, 'q')\n",
    "    search.send_keys(company + ' linkedin')\n",
    "    search.send_keys(Keys.RETURN) # hit return after you enter search text\n",
    "\n",
    "    linkedin_page = driver.find_element_by_tag_name('h3') # clicking the first search result\n",
    "    linkedin_page.click()\n",
    "\n",
    "    try:\n",
    "        info_item = driver.find_elements_by_class_name(\"basic-info-item__term\")\n",
    "        info_desc = driver.find_elements_by_class_name(\"basic-info-item__description\")\n",
    "        index = 0\n",
    "        for info in info_item:\n",
    "            if (info.text == \"Industries\"):\n",
    "                print(info_desc[index].text)\n",
    "            index = index + 1\n",
    "    except:\n",
    "        print(\"cb\")\n",
    "'''"
   ]
  },
  {
   "cell_type": "markdown",
   "id": "b772a687",
   "metadata": {},
   "source": [
    "## 3) Data cleaning "
   ]
  },
  {
   "cell_type": "code",
   "execution_count": null,
   "id": "c06391de",
   "metadata": {},
   "outputs": [],
   "source": [
    "df['Industries'] = industry_list\n",
    "df = df.dropna() # remove rows with NaN\n",
    "\n",
    "df"
   ]
  },
  {
   "cell_type": "code",
   "execution_count": null,
   "id": "58e1f159",
   "metadata": {},
   "outputs": [],
   "source": [
    "df = df.reset_index(drop=True) # reset index\n",
    "\n",
    "df"
   ]
  },
  {
   "cell_type": "code",
   "execution_count": null,
   "id": "5af43d0d",
   "metadata": {},
   "outputs": [],
   "source": []
  }
 ],
 "metadata": {
  "kernelspec": {
   "display_name": "Python 3 (ipykernel)",
   "language": "python",
   "name": "python3"
  },
  "language_info": {
   "codemirror_mode": {
    "name": "ipython",
    "version": 3
   },
   "file_extension": ".py",
   "mimetype": "text/x-python",
   "name": "python",
   "nbconvert_exporter": "python",
   "pygments_lexer": "ipython3",
   "version": "3.9.2"
  }
 },
 "nbformat": 4,
 "nbformat_minor": 5
}
